{
 "cells": [
  {
   "cell_type": "code",
   "execution_count": 60,
   "metadata": {},
   "outputs": [
    {
     "data": {
      "text/plain": [
       "['report-EMAIL_SEND - 1st January to 31st May.csv',\n",
       " 'report-EMAIL_SEND - 1st June to 31st August.csv',\n",
       " 'report-SMS_SEND - 1st January to 31st May.csv',\n",
       " 'report-SMS_SEND - 1st June to 31st August.csv',\n",
       " 'report-WEB_PUSH_SEND - 1st January to 31st May.csv',\n",
       " 'report-WEB_PUSH_SEND - 1st June to 31st August.csv']"
      ]
     },
     "execution_count": 60,
     "metadata": {},
     "output_type": "execute_result"
    }
   ],
   "source": [
    "import os\n",
    "import pandas as pd\n",
    "\n",
    "data_path = \"../../../Data/campaign files\" #path where raw data is stored\n",
    "store_path = \"data/campaign files/\" #path where processed data is stored\n",
    "files = os.listdir(data_path) #get list of all raw data files from where they are stored\n",
    "files"
   ]
  },
  {
   "cell_type": "code",
   "execution_count": 61,
   "metadata": {},
   "outputs": [
    {
     "data": {
      "text/plain": [
       "{'report-EMAIL_SEND', 'report-SMS_SEND', 'report-WEB_PUSH_SEND'}"
      ]
     },
     "execution_count": 61,
     "metadata": {},
     "output_type": "execute_result"
    }
   ],
   "source": [
    "report_type = [file.split()[0] for file in files] #extract report type from file name\n",
    "report_type = set(report_type) #find unique report types\n",
    "report_type"
   ]
  },
  {
   "cell_type": "code",
   "execution_count": 64,
   "metadata": {},
   "outputs": [
    {
     "name": "stdout",
     "output_type": "stream",
     "text": [
      "Done!\n"
     ]
    }
   ],
   "source": [
    "for report in report_type:\n",
    "    \n",
    "    report_df = pd.DataFrame() #Create new dataframe to store results\n",
    "    \n",
    "    rel_files = [file for file in files if report in file] #Get the relevant files for that report type\n",
    "    \n",
    "    flag = True #Set flag to know when running certain report type for first time\n",
    "    for file in rel_files:\n",
    "        temp = pd.read_csv(data_path+'/'+file, sep=\";\")\n",
    "        if flag:\n",
    "            report_df = temp\n",
    "            flag = False\n",
    "        else:\n",
    "            report_df = pd.concat([report_df, temp], ignore_index=True)\n",
    "            \n",
    "    report_df.to_csv(store_path+report+'.csv') #Write combined files into a dataframe\n",
    "    \n",
    "print(\"Done!\")"
   ]
  }
 ],
 "metadata": {
  "kernelspec": {
   "display_name": "Python 3",
   "language": "python",
   "name": "python3"
  },
  "language_info": {
   "codemirror_mode": {
    "name": "ipython",
    "version": 3
   },
   "file_extension": ".py",
   "mimetype": "text/x-python",
   "name": "python",
   "nbconvert_exporter": "python",
   "pygments_lexer": "ipython3",
   "version": "3.8.3"
  }
 },
 "nbformat": 4,
 "nbformat_minor": 4
}
